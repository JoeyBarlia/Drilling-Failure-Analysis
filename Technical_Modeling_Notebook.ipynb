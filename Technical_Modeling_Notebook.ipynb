{
  "nbformat": 4,
  "nbformat_minor": 0,
  "metadata": {
    "colab": {
      "provenance": [],
      "authorship_tag": "ABX9TyNMgL4/hwD65V5sh8vieuzw",
      "include_colab_link": true
    },
    "kernelspec": {
      "name": "python3",
      "display_name": "Python 3"
    },
    "language_info": {
      "name": "python"
    }
  },
  "cells": [
    {
      "cell_type": "markdown",
      "metadata": {
        "id": "view-in-github",
        "colab_type": "text"
      },
      "source": [
        "<a href=\"https://colab.research.google.com/github/JoeyBarlia/Drilling-Failure-Analysis/blob/main/Technical_Modeling_Notebook.ipynb\" target=\"_parent\"><img src=\"https://colab.research.google.com/assets/colab-badge.svg\" alt=\"Open In Colab\"/></a>"
      ]
    },
    {
      "cell_type": "markdown",
      "source": [
        "#Technical Modeling"
      ],
      "metadata": {
        "id": "u-gXOA1stm1r"
      }
    },
    {
      "cell_type": "code",
      "execution_count": 40,
      "metadata": {
        "id": "VE5dDIK1CDLd"
      },
      "outputs": [],
      "source": [
        "import pandas as pd\n",
        "import numpy as np\n",
        "import matplotlib.pyplot as plt\n",
        "import seaborn as sns\n",
        "\n",
        "from imblearn.over_sampling import SVMSMOTE\n",
        "from imblearn.over_sampling import RandomOverSampler\n",
        "\n",
        "from sklearn.preprocessing import MinMaxScaler\n",
        "from sklearn.model_selection import train_test_split\n",
        "from sklearn.tree import DecisionTreeClassifier\n",
        "from sklearn.neighbors import KNeighborsClassifier\n",
        "from sklearn.ensemble import RandomForestClassifier\n",
        "from sklearn.metrics import classification_report, accuracy_score, confusion_matrix, ConfusionMatrixDisplay\n",
        "from sklearn.model_selection import GridSearchCV\n",
        "\n",
        "from tensorflow.keras.models import Sequential\n",
        "from tensorflow.keras.layers import Dense\n",
        "from tensorflow.keras.layers import Dense, Dropout, Input\n",
        "from tensorflow.keras.utils import plot_model\n",
        "from tensorflow.keras.backend import clear_session\n"
      ]
    },
    {
      "cell_type": "markdown",
      "source": [
        "We will now turn our attention back to machine failures and trying to predict them."
      ],
      "metadata": {
        "id": "95YNgB5YcU82"
      }
    },
    {
      "cell_type": "code",
      "source": [
        "df = pd.read_csv('XAI_Drilling_Dataset.csv')\n",
        "df.head()"
      ],
      "metadata": {
        "id": "PLBvkDnLC2IU",
        "colab": {
          "base_uri": "https://localhost:8080/",
          "height": 224
        },
        "outputId": "2f5a13b8-a83b-4485-9c0b-7cbe06490679"
      },
      "execution_count": 13,
      "outputs": [
        {
          "output_type": "execute_result",
          "data": {
            "text/plain": [
              "   ID  Cutting speed vc [m/min]  Spindle speed n [1/min]  Feed f [mm/rev]  \\\n",
              "0   1                     29.92                      794            0.218   \n",
              "1   2                     29.85                      792            0.241   \n",
              "2   3                     22.85                      606            0.183   \n",
              "3   4                     29.60                      785            0.236   \n",
              "4   5                     17.43                      462            0.246   \n",
              "\n",
              "   Feed rate vf [mm/min]  Power Pc [kW]  Cooling [%] Material Drill Bit Type  \\\n",
              "0                    173         194.87           75        N              W   \n",
              "1                    191         214.71           75        N              W   \n",
              "2                    111          95.68           50        P              N   \n",
              "3                    237         206.93           75        N              W   \n",
              "4                    114          74.85           50        K              H   \n",
              "\n",
              "   Process Time [sec]  Main Failure  BEF  CCF  FWF  WDF  \n",
              "0               19.26             0    0    0    0    0  \n",
              "1               19.55             0    0    0    0    0  \n",
              "2               36.16             0    0    0    0    0  \n",
              "3               21.22             1    0    0    1    0  \n",
              "4               33.56             0    0    0    0    0  "
            ],
            "text/html": [
              "\n",
              "  <div id=\"df-8503d59a-723a-41f1-873b-4f20748c1dc8\" class=\"colab-df-container\">\n",
              "    <div>\n",
              "<style scoped>\n",
              "    .dataframe tbody tr th:only-of-type {\n",
              "        vertical-align: middle;\n",
              "    }\n",
              "\n",
              "    .dataframe tbody tr th {\n",
              "        vertical-align: top;\n",
              "    }\n",
              "\n",
              "    .dataframe thead th {\n",
              "        text-align: right;\n",
              "    }\n",
              "</style>\n",
              "<table border=\"1\" class=\"dataframe\">\n",
              "  <thead>\n",
              "    <tr style=\"text-align: right;\">\n",
              "      <th></th>\n",
              "      <th>ID</th>\n",
              "      <th>Cutting speed vc [m/min]</th>\n",
              "      <th>Spindle speed n [1/min]</th>\n",
              "      <th>Feed f [mm/rev]</th>\n",
              "      <th>Feed rate vf [mm/min]</th>\n",
              "      <th>Power Pc [kW]</th>\n",
              "      <th>Cooling [%]</th>\n",
              "      <th>Material</th>\n",
              "      <th>Drill Bit Type</th>\n",
              "      <th>Process Time [sec]</th>\n",
              "      <th>Main Failure</th>\n",
              "      <th>BEF</th>\n",
              "      <th>CCF</th>\n",
              "      <th>FWF</th>\n",
              "      <th>WDF</th>\n",
              "    </tr>\n",
              "  </thead>\n",
              "  <tbody>\n",
              "    <tr>\n",
              "      <th>0</th>\n",
              "      <td>1</td>\n",
              "      <td>29.92</td>\n",
              "      <td>794</td>\n",
              "      <td>0.218</td>\n",
              "      <td>173</td>\n",
              "      <td>194.87</td>\n",
              "      <td>75</td>\n",
              "      <td>N</td>\n",
              "      <td>W</td>\n",
              "      <td>19.26</td>\n",
              "      <td>0</td>\n",
              "      <td>0</td>\n",
              "      <td>0</td>\n",
              "      <td>0</td>\n",
              "      <td>0</td>\n",
              "    </tr>\n",
              "    <tr>\n",
              "      <th>1</th>\n",
              "      <td>2</td>\n",
              "      <td>29.85</td>\n",
              "      <td>792</td>\n",
              "      <td>0.241</td>\n",
              "      <td>191</td>\n",
              "      <td>214.71</td>\n",
              "      <td>75</td>\n",
              "      <td>N</td>\n",
              "      <td>W</td>\n",
              "      <td>19.55</td>\n",
              "      <td>0</td>\n",
              "      <td>0</td>\n",
              "      <td>0</td>\n",
              "      <td>0</td>\n",
              "      <td>0</td>\n",
              "    </tr>\n",
              "    <tr>\n",
              "      <th>2</th>\n",
              "      <td>3</td>\n",
              "      <td>22.85</td>\n",
              "      <td>606</td>\n",
              "      <td>0.183</td>\n",
              "      <td>111</td>\n",
              "      <td>95.68</td>\n",
              "      <td>50</td>\n",
              "      <td>P</td>\n",
              "      <td>N</td>\n",
              "      <td>36.16</td>\n",
              "      <td>0</td>\n",
              "      <td>0</td>\n",
              "      <td>0</td>\n",
              "      <td>0</td>\n",
              "      <td>0</td>\n",
              "    </tr>\n",
              "    <tr>\n",
              "      <th>3</th>\n",
              "      <td>4</td>\n",
              "      <td>29.60</td>\n",
              "      <td>785</td>\n",
              "      <td>0.236</td>\n",
              "      <td>237</td>\n",
              "      <td>206.93</td>\n",
              "      <td>75</td>\n",
              "      <td>N</td>\n",
              "      <td>W</td>\n",
              "      <td>21.22</td>\n",
              "      <td>1</td>\n",
              "      <td>0</td>\n",
              "      <td>0</td>\n",
              "      <td>1</td>\n",
              "      <td>0</td>\n",
              "    </tr>\n",
              "    <tr>\n",
              "      <th>4</th>\n",
              "      <td>5</td>\n",
              "      <td>17.43</td>\n",
              "      <td>462</td>\n",
              "      <td>0.246</td>\n",
              "      <td>114</td>\n",
              "      <td>74.85</td>\n",
              "      <td>50</td>\n",
              "      <td>K</td>\n",
              "      <td>H</td>\n",
              "      <td>33.56</td>\n",
              "      <td>0</td>\n",
              "      <td>0</td>\n",
              "      <td>0</td>\n",
              "      <td>0</td>\n",
              "      <td>0</td>\n",
              "    </tr>\n",
              "  </tbody>\n",
              "</table>\n",
              "</div>\n",
              "    <div class=\"colab-df-buttons\">\n",
              "\n",
              "  <div class=\"colab-df-container\">\n",
              "    <button class=\"colab-df-convert\" onclick=\"convertToInteractive('df-8503d59a-723a-41f1-873b-4f20748c1dc8')\"\n",
              "            title=\"Convert this dataframe to an interactive table.\"\n",
              "            style=\"display:none;\">\n",
              "\n",
              "  <svg xmlns=\"http://www.w3.org/2000/svg\" height=\"24px\" viewBox=\"0 -960 960 960\">\n",
              "    <path d=\"M120-120v-720h720v720H120Zm60-500h600v-160H180v160Zm220 220h160v-160H400v160Zm0 220h160v-160H400v160ZM180-400h160v-160H180v160Zm440 0h160v-160H620v160ZM180-180h160v-160H180v160Zm440 0h160v-160H620v160Z\"/>\n",
              "  </svg>\n",
              "    </button>\n",
              "\n",
              "  <style>\n",
              "    .colab-df-container {\n",
              "      display:flex;\n",
              "      gap: 12px;\n",
              "    }\n",
              "\n",
              "    .colab-df-convert {\n",
              "      background-color: #E8F0FE;\n",
              "      border: none;\n",
              "      border-radius: 50%;\n",
              "      cursor: pointer;\n",
              "      display: none;\n",
              "      fill: #1967D2;\n",
              "      height: 32px;\n",
              "      padding: 0 0 0 0;\n",
              "      width: 32px;\n",
              "    }\n",
              "\n",
              "    .colab-df-convert:hover {\n",
              "      background-color: #E2EBFA;\n",
              "      box-shadow: 0px 1px 2px rgba(60, 64, 67, 0.3), 0px 1px 3px 1px rgba(60, 64, 67, 0.15);\n",
              "      fill: #174EA6;\n",
              "    }\n",
              "\n",
              "    .colab-df-buttons div {\n",
              "      margin-bottom: 4px;\n",
              "    }\n",
              "\n",
              "    [theme=dark] .colab-df-convert {\n",
              "      background-color: #3B4455;\n",
              "      fill: #D2E3FC;\n",
              "    }\n",
              "\n",
              "    [theme=dark] .colab-df-convert:hover {\n",
              "      background-color: #434B5C;\n",
              "      box-shadow: 0px 1px 3px 1px rgba(0, 0, 0, 0.15);\n",
              "      filter: drop-shadow(0px 1px 2px rgba(0, 0, 0, 0.3));\n",
              "      fill: #FFFFFF;\n",
              "    }\n",
              "  </style>\n",
              "\n",
              "    <script>\n",
              "      const buttonEl =\n",
              "        document.querySelector('#df-8503d59a-723a-41f1-873b-4f20748c1dc8 button.colab-df-convert');\n",
              "      buttonEl.style.display =\n",
              "        google.colab.kernel.accessAllowed ? 'block' : 'none';\n",
              "\n",
              "      async function convertToInteractive(key) {\n",
              "        const element = document.querySelector('#df-8503d59a-723a-41f1-873b-4f20748c1dc8');\n",
              "        const dataTable =\n",
              "          await google.colab.kernel.invokeFunction('convertToInteractive',\n",
              "                                                    [key], {});\n",
              "        if (!dataTable) return;\n",
              "\n",
              "        const docLinkHtml = 'Like what you see? Visit the ' +\n",
              "          '<a target=\"_blank\" href=https://colab.research.google.com/notebooks/data_table.ipynb>data table notebook</a>'\n",
              "          + ' to learn more about interactive tables.';\n",
              "        element.innerHTML = '';\n",
              "        dataTable['output_type'] = 'display_data';\n",
              "        await google.colab.output.renderOutput(dataTable, element);\n",
              "        const docLink = document.createElement('div');\n",
              "        docLink.innerHTML = docLinkHtml;\n",
              "        element.appendChild(docLink);\n",
              "      }\n",
              "    </script>\n",
              "  </div>\n",
              "\n",
              "\n",
              "<div id=\"df-d0317f96-2a1c-4584-8171-81f9782321fc\">\n",
              "  <button class=\"colab-df-quickchart\" onclick=\"quickchart('df-d0317f96-2a1c-4584-8171-81f9782321fc')\"\n",
              "            title=\"Suggest charts\"\n",
              "            style=\"display:none;\">\n",
              "\n",
              "<svg xmlns=\"http://www.w3.org/2000/svg\" height=\"24px\"viewBox=\"0 0 24 24\"\n",
              "     width=\"24px\">\n",
              "    <g>\n",
              "        <path d=\"M19 3H5c-1.1 0-2 .9-2 2v14c0 1.1.9 2 2 2h14c1.1 0 2-.9 2-2V5c0-1.1-.9-2-2-2zM9 17H7v-7h2v7zm4 0h-2V7h2v10zm4 0h-2v-4h2v4z\"/>\n",
              "    </g>\n",
              "</svg>\n",
              "  </button>\n",
              "\n",
              "<style>\n",
              "  .colab-df-quickchart {\n",
              "      --bg-color: #E8F0FE;\n",
              "      --fill-color: #1967D2;\n",
              "      --hover-bg-color: #E2EBFA;\n",
              "      --hover-fill-color: #174EA6;\n",
              "      --disabled-fill-color: #AAA;\n",
              "      --disabled-bg-color: #DDD;\n",
              "  }\n",
              "\n",
              "  [theme=dark] .colab-df-quickchart {\n",
              "      --bg-color: #3B4455;\n",
              "      --fill-color: #D2E3FC;\n",
              "      --hover-bg-color: #434B5C;\n",
              "      --hover-fill-color: #FFFFFF;\n",
              "      --disabled-bg-color: #3B4455;\n",
              "      --disabled-fill-color: #666;\n",
              "  }\n",
              "\n",
              "  .colab-df-quickchart {\n",
              "    background-color: var(--bg-color);\n",
              "    border: none;\n",
              "    border-radius: 50%;\n",
              "    cursor: pointer;\n",
              "    display: none;\n",
              "    fill: var(--fill-color);\n",
              "    height: 32px;\n",
              "    padding: 0;\n",
              "    width: 32px;\n",
              "  }\n",
              "\n",
              "  .colab-df-quickchart:hover {\n",
              "    background-color: var(--hover-bg-color);\n",
              "    box-shadow: 0 1px 2px rgba(60, 64, 67, 0.3), 0 1px 3px 1px rgba(60, 64, 67, 0.15);\n",
              "    fill: var(--button-hover-fill-color);\n",
              "  }\n",
              "\n",
              "  .colab-df-quickchart-complete:disabled,\n",
              "  .colab-df-quickchart-complete:disabled:hover {\n",
              "    background-color: var(--disabled-bg-color);\n",
              "    fill: var(--disabled-fill-color);\n",
              "    box-shadow: none;\n",
              "  }\n",
              "\n",
              "  .colab-df-spinner {\n",
              "    border: 2px solid var(--fill-color);\n",
              "    border-color: transparent;\n",
              "    border-bottom-color: var(--fill-color);\n",
              "    animation:\n",
              "      spin 1s steps(1) infinite;\n",
              "  }\n",
              "\n",
              "  @keyframes spin {\n",
              "    0% {\n",
              "      border-color: transparent;\n",
              "      border-bottom-color: var(--fill-color);\n",
              "      border-left-color: var(--fill-color);\n",
              "    }\n",
              "    20% {\n",
              "      border-color: transparent;\n",
              "      border-left-color: var(--fill-color);\n",
              "      border-top-color: var(--fill-color);\n",
              "    }\n",
              "    30% {\n",
              "      border-color: transparent;\n",
              "      border-left-color: var(--fill-color);\n",
              "      border-top-color: var(--fill-color);\n",
              "      border-right-color: var(--fill-color);\n",
              "    }\n",
              "    40% {\n",
              "      border-color: transparent;\n",
              "      border-right-color: var(--fill-color);\n",
              "      border-top-color: var(--fill-color);\n",
              "    }\n",
              "    60% {\n",
              "      border-color: transparent;\n",
              "      border-right-color: var(--fill-color);\n",
              "    }\n",
              "    80% {\n",
              "      border-color: transparent;\n",
              "      border-right-color: var(--fill-color);\n",
              "      border-bottom-color: var(--fill-color);\n",
              "    }\n",
              "    90% {\n",
              "      border-color: transparent;\n",
              "      border-bottom-color: var(--fill-color);\n",
              "    }\n",
              "  }\n",
              "</style>\n",
              "\n",
              "  <script>\n",
              "    async function quickchart(key) {\n",
              "      const quickchartButtonEl =\n",
              "        document.querySelector('#' + key + ' button');\n",
              "      quickchartButtonEl.disabled = true;  // To prevent multiple clicks.\n",
              "      quickchartButtonEl.classList.add('colab-df-spinner');\n",
              "      try {\n",
              "        const charts = await google.colab.kernel.invokeFunction(\n",
              "            'suggestCharts', [key], {});\n",
              "      } catch (error) {\n",
              "        console.error('Error during call to suggestCharts:', error);\n",
              "      }\n",
              "      quickchartButtonEl.classList.remove('colab-df-spinner');\n",
              "      quickchartButtonEl.classList.add('colab-df-quickchart-complete');\n",
              "    }\n",
              "    (() => {\n",
              "      let quickchartButtonEl =\n",
              "        document.querySelector('#df-d0317f96-2a1c-4584-8171-81f9782321fc button');\n",
              "      quickchartButtonEl.style.display =\n",
              "        google.colab.kernel.accessAllowed ? 'block' : 'none';\n",
              "    })();\n",
              "  </script>\n",
              "</div>\n",
              "\n",
              "    </div>\n",
              "  </div>\n"
            ],
            "application/vnd.google.colaboratory.intrinsic+json": {
              "type": "dataframe",
              "variable_name": "df",
              "summary": "{\n  \"name\": \"df\",\n  \"rows\": 20000,\n  \"fields\": [\n    {\n      \"column\": \"ID\",\n      \"properties\": {\n        \"dtype\": \"number\",\n        \"std\": 5773,\n        \"min\": 1,\n        \"max\": 20000,\n        \"num_unique_values\": 20000,\n        \"samples\": [\n          10651,\n          2042,\n          8669\n        ],\n        \"semantic_type\": \"\",\n        \"description\": \"\"\n      }\n    },\n    {\n      \"column\": \"Cutting speed vc [m/min]\",\n      \"properties\": {\n        \"dtype\": \"number\",\n        \"std\": 5.174178238386474,\n        \"min\": 16.33,\n        \"max\": 31.07,\n        \"num_unique_values\": 573,\n        \"samples\": [\n          28.98,\n          23.0,\n          21.94\n        ],\n        \"semantic_type\": \"\",\n        \"description\": \"\"\n      }\n    },\n    {\n      \"column\": \"Spindle speed n [1/min]\",\n      \"properties\": {\n        \"dtype\": \"number\",\n        \"std\": 137,\n        \"min\": 433,\n        \"max\": 824,\n        \"num_unique_values\": 173,\n        \"samples\": [\n          771,\n          586,\n          446\n        ],\n        \"semantic_type\": \"\",\n        \"description\": \"\"\n      }\n    },\n    {\n      \"column\": \"Feed f [mm/rev]\",\n      \"properties\": {\n        \"dtype\": \"number\",\n        \"std\": 0.037563088117950776,\n        \"min\": 0.108,\n        \"max\": 0.321,\n        \"num_unique_values\": 204,\n        \"samples\": [\n          0.206,\n          0.264,\n          0.176\n        ],\n        \"semantic_type\": \"\",\n        \"description\": \"\"\n      }\n    },\n    {\n      \"column\": \"Feed rate vf [mm/min]\",\n      \"properties\": {\n        \"dtype\": \"number\",\n        \"std\": 41,\n        \"min\": 62,\n        \"max\": 261,\n        \"num_unique_values\": 190,\n        \"samples\": [\n          255,\n          74,\n          220\n        ],\n        \"semantic_type\": \"\",\n        \"description\": \"\"\n      }\n    },\n    {\n      \"column\": \"Power Pc [kW]\",\n      \"properties\": {\n        \"dtype\": \"number\",\n        \"std\": 65.40323889303127,\n        \"min\": 49.04,\n        \"max\": 305.22,\n        \"num_unique_values\": 9458,\n        \"samples\": [\n          231.89,\n          86.59,\n          109.04\n        ],\n        \"semantic_type\": \"\",\n        \"description\": \"\"\n      }\n    },\n    {\n      \"column\": \"Cooling [%]\",\n      \"properties\": {\n        \"dtype\": \"number\",\n        \"std\": 23,\n        \"min\": 0,\n        \"max\": 100,\n        \"num_unique_values\": 5,\n        \"samples\": [\n          50,\n          100,\n          25\n        ],\n        \"semantic_type\": \"\",\n        \"description\": \"\"\n      }\n    },\n    {\n      \"column\": \"Material\",\n      \"properties\": {\n        \"dtype\": \"category\",\n        \"num_unique_values\": 3,\n        \"samples\": [\n          \"N\",\n          \"P\",\n          \"K\"\n        ],\n        \"semantic_type\": \"\",\n        \"description\": \"\"\n      }\n    },\n    {\n      \"column\": \"Drill Bit Type\",\n      \"properties\": {\n        \"dtype\": \"category\",\n        \"num_unique_values\": 3,\n        \"samples\": [\n          \"W\",\n          \"N\",\n          \"H\"\n        ],\n        \"semantic_type\": \"\",\n        \"description\": \"\"\n      }\n    },\n    {\n      \"column\": \"Process Time [sec]\",\n      \"properties\": {\n        \"dtype\": \"number\",\n        \"std\": 6.866543886220408,\n        \"min\": 15.97,\n        \"max\": 38.57,\n        \"num_unique_values\": 1286,\n        \"samples\": [\n          21.79,\n          19.51,\n          36.84\n        ],\n        \"semantic_type\": \"\",\n        \"description\": \"\"\n      }\n    },\n    {\n      \"column\": \"Main Failure\",\n      \"properties\": {\n        \"dtype\": \"number\",\n        \"std\": 0,\n        \"min\": 0,\n        \"max\": 1,\n        \"num_unique_values\": 2,\n        \"samples\": [\n          1,\n          0\n        ],\n        \"semantic_type\": \"\",\n        \"description\": \"\"\n      }\n    },\n    {\n      \"column\": \"BEF\",\n      \"properties\": {\n        \"dtype\": \"number\",\n        \"std\": 0,\n        \"min\": 0,\n        \"max\": 1,\n        \"num_unique_values\": 2,\n        \"samples\": [\n          1,\n          0\n        ],\n        \"semantic_type\": \"\",\n        \"description\": \"\"\n      }\n    },\n    {\n      \"column\": \"CCF\",\n      \"properties\": {\n        \"dtype\": \"number\",\n        \"std\": 0,\n        \"min\": 0,\n        \"max\": 1,\n        \"num_unique_values\": 2,\n        \"samples\": [\n          1,\n          0\n        ],\n        \"semantic_type\": \"\",\n        \"description\": \"\"\n      }\n    },\n    {\n      \"column\": \"FWF\",\n      \"properties\": {\n        \"dtype\": \"number\",\n        \"std\": 0,\n        \"min\": 0,\n        \"max\": 1,\n        \"num_unique_values\": 2,\n        \"samples\": [\n          1,\n          0\n        ],\n        \"semantic_type\": \"\",\n        \"description\": \"\"\n      }\n    },\n    {\n      \"column\": \"WDF\",\n      \"properties\": {\n        \"dtype\": \"number\",\n        \"std\": 0,\n        \"min\": 0,\n        \"max\": 1,\n        \"num_unique_values\": 2,\n        \"samples\": [\n          1,\n          0\n        ],\n        \"semantic_type\": \"\",\n        \"description\": \"\"\n      }\n    }\n  ]\n}"
            }
          },
          "metadata": {},
          "execution_count": 13
        }
      ]
    },
    {
      "cell_type": "code",
      "source": [
        "#Drop ID since it has no predictive power.\n",
        "df.drop(['ID'],axis=1,inplace=True)\n",
        "\n",
        "#Drop the failure types, as we're only interested whether a machine fails\n",
        "df.drop(['BEF','CCF','FWF','WDF'],axis=1,inplace=True)"
      ],
      "metadata": {
        "id": "b_s7XCpGuKar"
      },
      "execution_count": 14,
      "outputs": []
    },
    {
      "cell_type": "code",
      "source": [
        "# convert Drill Bit Type attribute into numbers, so that W = 0, H = 1, and N = 2\n",
        "df['Drill Bit Type'].replace('W', 0, inplace=True)\n",
        "df['Drill Bit Type'].replace('H', 1, inplace=True)\n",
        "df['Drill Bit Type'].replace('N', 2, inplace=True)\n",
        "\n",
        "# convert Material attribute into numbers, so that  P= 0, K = 1, and N = 2\n",
        "df['Material'].replace('P', 0, inplace=True)\n",
        "df['Material'].replace('K', 1, inplace=True)\n",
        "df['Material'].replace('N', 2, inplace=True)"
      ],
      "metadata": {
        "colab": {
          "base_uri": "https://localhost:8080/"
        },
        "id": "_XW4YxELwfiM",
        "outputId": "895dffd1-5d63-4d2f-e61c-c31b54551789"
      },
      "execution_count": 15,
      "outputs": [
        {
          "output_type": "stream",
          "name": "stderr",
          "text": [
            "<ipython-input-15-9ad3ae710698>:2: FutureWarning: A value is trying to be set on a copy of a DataFrame or Series through chained assignment using an inplace method.\n",
            "The behavior will change in pandas 3.0. This inplace method will never work because the intermediate object on which we are setting values always behaves as a copy.\n",
            "\n",
            "For example, when doing 'df[col].method(value, inplace=True)', try using 'df.method({col: value}, inplace=True)' or df[col] = df[col].method(value) instead, to perform the operation inplace on the original object.\n",
            "\n",
            "\n",
            "  df['Drill Bit Type'].replace('W', 0, inplace=True)\n",
            "<ipython-input-15-9ad3ae710698>:3: FutureWarning: A value is trying to be set on a copy of a DataFrame or Series through chained assignment using an inplace method.\n",
            "The behavior will change in pandas 3.0. This inplace method will never work because the intermediate object on which we are setting values always behaves as a copy.\n",
            "\n",
            "For example, when doing 'df[col].method(value, inplace=True)', try using 'df.method({col: value}, inplace=True)' or df[col] = df[col].method(value) instead, to perform the operation inplace on the original object.\n",
            "\n",
            "\n",
            "  df['Drill Bit Type'].replace('H', 1, inplace=True)\n",
            "<ipython-input-15-9ad3ae710698>:4: FutureWarning: A value is trying to be set on a copy of a DataFrame or Series through chained assignment using an inplace method.\n",
            "The behavior will change in pandas 3.0. This inplace method will never work because the intermediate object on which we are setting values always behaves as a copy.\n",
            "\n",
            "For example, when doing 'df[col].method(value, inplace=True)', try using 'df.method({col: value}, inplace=True)' or df[col] = df[col].method(value) instead, to perform the operation inplace on the original object.\n",
            "\n",
            "\n",
            "  df['Drill Bit Type'].replace('N', 2, inplace=True)\n",
            "<ipython-input-15-9ad3ae710698>:4: FutureWarning: Downcasting behavior in `replace` is deprecated and will be removed in a future version. To retain the old behavior, explicitly call `result.infer_objects(copy=False)`. To opt-in to the future behavior, set `pd.set_option('future.no_silent_downcasting', True)`\n",
            "  df['Drill Bit Type'].replace('N', 2, inplace=True)\n",
            "<ipython-input-15-9ad3ae710698>:7: FutureWarning: A value is trying to be set on a copy of a DataFrame or Series through chained assignment using an inplace method.\n",
            "The behavior will change in pandas 3.0. This inplace method will never work because the intermediate object on which we are setting values always behaves as a copy.\n",
            "\n",
            "For example, when doing 'df[col].method(value, inplace=True)', try using 'df.method({col: value}, inplace=True)' or df[col] = df[col].method(value) instead, to perform the operation inplace on the original object.\n",
            "\n",
            "\n",
            "  df['Material'].replace('P', 0, inplace=True)\n",
            "<ipython-input-15-9ad3ae710698>:8: FutureWarning: A value is trying to be set on a copy of a DataFrame or Series through chained assignment using an inplace method.\n",
            "The behavior will change in pandas 3.0. This inplace method will never work because the intermediate object on which we are setting values always behaves as a copy.\n",
            "\n",
            "For example, when doing 'df[col].method(value, inplace=True)', try using 'df.method({col: value}, inplace=True)' or df[col] = df[col].method(value) instead, to perform the operation inplace on the original object.\n",
            "\n",
            "\n",
            "  df['Material'].replace('K', 1, inplace=True)\n",
            "<ipython-input-15-9ad3ae710698>:9: FutureWarning: A value is trying to be set on a copy of a DataFrame or Series through chained assignment using an inplace method.\n",
            "The behavior will change in pandas 3.0. This inplace method will never work because the intermediate object on which we are setting values always behaves as a copy.\n",
            "\n",
            "For example, when doing 'df[col].method(value, inplace=True)', try using 'df.method({col: value}, inplace=True)' or df[col] = df[col].method(value) instead, to perform the operation inplace on the original object.\n",
            "\n",
            "\n",
            "  df['Material'].replace('N', 2, inplace=True)\n",
            "<ipython-input-15-9ad3ae710698>:9: FutureWarning: Downcasting behavior in `replace` is deprecated and will be removed in a future version. To retain the old behavior, explicitly call `result.infer_objects(copy=False)`. To opt-in to the future behavior, set `pd.set_option('future.no_silent_downcasting', True)`\n",
            "  df['Material'].replace('N', 2, inplace=True)\n"
          ]
        }
      ]
    },
    {
      "cell_type": "code",
      "source": [
        "#select target\n",
        "X = df.drop(['Main Failure'], axis=1)\n",
        "y = df['Main Failure']\n",
        "\n",
        "#split into training and tesing data\n",
        "X_train, X_test, y_train, y_test = train_test_split(X, y, test_size=0.3, random_state=42)"
      ],
      "metadata": {
        "id": "fq2-HaGbxMKW"
      },
      "execution_count": 16,
      "outputs": []
    },
    {
      "cell_type": "markdown",
      "source": [
        "Since the data is imblanced, we oversample the training data.  "
      ],
      "metadata": {
        "id": "1aXO-Q_6zzME"
      }
    },
    {
      "cell_type": "code",
      "source": [
        "#tried both oversampling techniques. SMOTE performed slightly better\n",
        "\n",
        "oversample = SVMSMOTE(random_state = 42)\n",
        "#oversample = RandomOverSampler(random_state=42)\n",
        "\n",
        "X_train, y_train = oversample.fit_resample(X_train, y_train)"
      ],
      "metadata": {
        "id": "COqcLe6kz7MO"
      },
      "execution_count": 17,
      "outputs": []
    },
    {
      "cell_type": "code",
      "source": [
        "# scaling did not improve performance of any classical ML model. Only the ANN\n",
        "\n",
        "sc = MinMaxScaler()\n",
        "X_train_scaled = sc.fit_transform(X_train)\n",
        "X_test_scaled = sc.transform(X_test)"
      ],
      "metadata": {
        "id": "VRhyu6TXdALM"
      },
      "execution_count": 18,
      "outputs": []
    },
    {
      "cell_type": "markdown",
      "source": [
        "####Decision Tree"
      ],
      "metadata": {
        "id": "Ke2mGUcT0e3o"
      }
    },
    {
      "cell_type": "code",
      "source": [
        "dt_model = DecisionTreeClassifier(criterion='gini', max_depth=None, random_state=42)\n",
        "dt_model.fit(X_train, y_train)\n",
        "\n",
        "y_train_pred_dt = dt_model.predict(X_train)\n",
        "y_test_pred_dt = dt_model.predict(X_test)\n",
        "\n",
        "# Train and Test Accuracy\n",
        "train_accuracy_dt = accuracy_score(y_train, y_train_pred_dt)\n",
        "test_accuracy_dt = accuracy_score(y_test, y_test_pred_dt)\n",
        "\n",
        "# Confusion Matrix\n",
        "cm_dt = confusion_matrix(y_test, y_test_pred_dt)\n",
        "\n",
        "print(\"Decision Tree Classifier\")\n",
        "print(f\"Training Accuracy: {train_accuracy_dt:.4f}\")\n",
        "print(f\"Testing Accuracy: {test_accuracy_dt:.4f}\")\n",
        "print(\"Confusion Matrix:\")\n",
        "print(cm_dt)\n",
        "\n",
        "print(\"Classification Report:\\n\", classification_report(y_test, y_test_pred_dt))"
      ],
      "metadata": {
        "colab": {
          "base_uri": "https://localhost:8080/"
        },
        "id": "pWUVTFG3Q_AF",
        "outputId": "1d994b06-046a-4753-ab36-eafef909b64c"
      },
      "execution_count": 21,
      "outputs": [
        {
          "output_type": "stream",
          "name": "stdout",
          "text": [
            "Decision Tree Classifier\n",
            "Training Accuracy: 1.0000\n",
            "Testing Accuracy: 0.9955\n",
            "Confusion Matrix:\n",
            "[[5661   19]\n",
            " [   8  312]]\n",
            "Classification Report:\n",
            "               precision    recall  f1-score   support\n",
            "\n",
            "           0       1.00      1.00      1.00      5680\n",
            "           1       0.94      0.97      0.96       320\n",
            "\n",
            "    accuracy                           1.00      6000\n",
            "   macro avg       0.97      0.99      0.98      6000\n",
            "weighted avg       1.00      1.00      1.00      6000\n",
            "\n"
          ]
        }
      ]
    },
    {
      "cell_type": "markdown",
      "source": [
        "###KNN"
      ],
      "metadata": {
        "id": "umwa5TyvT5d3"
      }
    },
    {
      "cell_type": "code",
      "source": [
        "knn_model = KNeighborsClassifier(n_neighbors=5,)\n",
        "knn_model.fit(X_train, y_train)\n",
        "\n",
        "y_train_pred_knn = knn_model.predict(X_train)\n",
        "y_test_pred_knn = knn_model.predict(X_test)\n",
        "\n",
        "train_accuracy_knn = accuracy_score(y_train, y_train_pred_knn)\n",
        "test_accuracy_knn = accuracy_score(y_test, y_test_pred_knn)\n",
        "\n",
        "cm_knn = confusion_matrix(y_test, y_test_pred_knn)\n",
        "\n",
        "print(\"\\nK-Nearest Neighbors Classifier\")\n",
        "print(f\"Training Accuracy: {train_accuracy_knn:.4f}\")\n",
        "print(f\"Testing Accuracy: {test_accuracy_knn:.4f}\")\n",
        "print(\"Confusion Matrix:\")\n",
        "print(cm_knn)\n",
        "\n",
        "print(\"Classification Report:\\n\", classification_report(y_test, y_test_pred_knn))"
      ],
      "metadata": {
        "colab": {
          "base_uri": "https://localhost:8080/"
        },
        "id": "aVbl56WPSXHF",
        "outputId": "aba29136-15f0-449a-d9a8-038b5b006139"
      },
      "execution_count": 22,
      "outputs": [
        {
          "output_type": "stream",
          "name": "stdout",
          "text": [
            "\n",
            "K-Nearest Neighbors Classifier\n",
            "Training Accuracy: 0.9926\n",
            "Testing Accuracy: 0.9773\n",
            "Confusion Matrix:\n",
            "[[5621   59]\n",
            " [  77  243]]\n",
            "Classification Report:\n",
            "               precision    recall  f1-score   support\n",
            "\n",
            "           0       0.99      0.99      0.99      5680\n",
            "           1       0.80      0.76      0.78       320\n",
            "\n",
            "    accuracy                           0.98      6000\n",
            "   macro avg       0.90      0.87      0.88      6000\n",
            "weighted avg       0.98      0.98      0.98      6000\n",
            "\n"
          ]
        }
      ]
    },
    {
      "cell_type": "markdown",
      "source": [
        "###Random Forest"
      ],
      "metadata": {
        "id": "RWrnpt8-RukN"
      }
    },
    {
      "cell_type": "code",
      "source": [
        "rfc = RandomForestClassifier(n_estimators=20, max_depth=10, min_samples_split=10,\n",
        "                             min_samples_leaf=4, random_state=42)\n",
        "rfc.fit(X_train, y_train)\n",
        "\n",
        "y_train_pred_rfc = rfc.predict(X_train)\n",
        "y_test_pred_rfc = rfc.predict(X_test)\n",
        "\n",
        "train_accuracy_rfc = accuracy_score(y_train, y_train_pred_rfc)\n",
        "test_accuracy_rfc = accuracy_score(y_test, y_test_pred_rfc)\n",
        "\n",
        "cm_rfc = confusion_matrix(y_test, y_test_pred_rfc)\n",
        "\n",
        "print(\"Random Forest Classifier\")\n",
        "print(f\"Training Accuracy: {train_accuracy_rfc:.4f}\")\n",
        "print(f\"Testing Accuracy: {test_accuracy_rfc:.4f}\")\n",
        "print(\"Confusion Matrix:\")\n",
        "print(cm_rfc)\n",
        "\n",
        "print(\"Classification Report:\\n\", classification_report(y_test, y_test_pred_rfc))"
      ],
      "metadata": {
        "colab": {
          "base_uri": "https://localhost:8080/"
        },
        "id": "KQidxE4_397j",
        "outputId": "f4753867-401b-4c8f-b124-d333761c7b6c"
      },
      "execution_count": 23,
      "outputs": [
        {
          "output_type": "stream",
          "name": "stdout",
          "text": [
            "Random Forest Classifier\n",
            "Training Accuracy: 0.9934\n",
            "Testing Accuracy: 0.9970\n",
            "Confusion Matrix:\n",
            "[[5669   11]\n",
            " [   7  313]]\n",
            "Classification Report:\n",
            "               precision    recall  f1-score   support\n",
            "\n",
            "           0       1.00      1.00      1.00      5680\n",
            "           1       0.97      0.98      0.97       320\n",
            "\n",
            "    accuracy                           1.00      6000\n",
            "   macro avg       0.98      0.99      0.99      6000\n",
            "weighted avg       1.00      1.00      1.00      6000\n",
            "\n"
          ]
        }
      ]
    },
    {
      "cell_type": "markdown",
      "source": [
        "Random forest performed the best. We will do a gridsearch"
      ],
      "metadata": {
        "id": "cUZZoKr_WlwY"
      }
    },
    {
      "cell_type": "code",
      "source": [
        "param_grid = {\n",
        "    'n_estimators': [20, 40, 60],\n",
        "    'max_depth': [10, 20, 30],\n",
        "    'min_samples_split': [2, 5, 10],\n",
        "    'min_samples_leaf': [1, 2, 4]\n",
        "}\n",
        "\n",
        "grid_search = GridSearchCV(estimator=rfc, param_grid=param_grid, cv=5, n_jobs=-1, verbose=2)\n",
        "grid_search.fit(X_train, y_train)\n",
        "print(\"Best Parameters:\", grid_search.best_params_)\n"
      ],
      "metadata": {
        "colab": {
          "base_uri": "https://localhost:8080/"
        },
        "id": "3QwxDWj9XcDj",
        "outputId": "45c3eb26-a041-4f0a-e961-606c8269ed71"
      },
      "execution_count": 24,
      "outputs": [
        {
          "output_type": "stream",
          "name": "stdout",
          "text": [
            "Fitting 5 folds for each of 81 candidates, totalling 405 fits\n"
          ]
        },
        {
          "output_type": "stream",
          "name": "stderr",
          "text": [
            "/usr/local/lib/python3.10/dist-packages/numpy/ma/core.py:2820: RuntimeWarning: invalid value encountered in cast\n",
            "  _data = np.array(data, dtype=dtype, copy=copy,\n"
          ]
        },
        {
          "output_type": "stream",
          "name": "stdout",
          "text": [
            "Best Parameters: {'max_depth': 30, 'min_samples_leaf': 1, 'min_samples_split': 5, 'n_estimators': 20}\n"
          ]
        }
      ]
    },
    {
      "cell_type": "markdown",
      "source": [
        "Retrain with best parameters"
      ],
      "metadata": {
        "id": "bYAFkdJniMVt"
      }
    },
    {
      "cell_type": "code",
      "source": [
        "best_params = grid_search.best_params_\n",
        "\n",
        "rfc_best = RandomForestClassifier(**best_params, random_state=42)\n",
        "rfc_best.fit(X_train, y_train)\n",
        "\n",
        "y_train_pred_best_rfc = rfc_best.predict(X_train)\n",
        "y_test_pred_best_rfc = rfc_best.predict(X_test)\n",
        "\n",
        "train_accuracy_best_rfc = accuracy_score(y_train, y_train_pred_best_rfc)\n",
        "test_accuracy_best_rfc = accuracy_score(y_test, y_test_pred_best_rfc)\n",
        "\n",
        "cm_best_rfc = confusion_matrix(y_test, y_test_pred_best_rfc)\n",
        "\n",
        "print(\"'Best' Random Forest Classifier\")\n",
        "print(f\"Training Accuracy: {train_accuracy_best_rfc:.4f}\")\n",
        "print(f\"Testing Accuracy: {test_accuracy_best_rfc:.4f}\")\n",
        "print(\"Confusion Matrix:\")\n",
        "print(cm_best_rfc)\n",
        "\n",
        "print(\"Classification Report:\\n\", classification_report(y_test, y_test_pred_best_rfc))\n"
      ],
      "metadata": {
        "colab": {
          "base_uri": "https://localhost:8080/"
        },
        "id": "AZiTQfx5hyvM",
        "outputId": "2d58eafe-b365-419d-e9d9-0ce784880711"
      },
      "execution_count": 25,
      "outputs": [
        {
          "output_type": "stream",
          "name": "stdout",
          "text": [
            "'Best' Random Forest Classifier\n",
            "Training Accuracy: 0.9999\n",
            "Testing Accuracy: 0.9968\n",
            "Confusion Matrix:\n",
            "[[5670   10]\n",
            " [   9  311]]\n",
            "Classification Report:\n",
            "               precision    recall  f1-score   support\n",
            "\n",
            "           0       1.00      1.00      1.00      5680\n",
            "           1       0.97      0.97      0.97       320\n",
            "\n",
            "    accuracy                           1.00      6000\n",
            "   macro avg       0.98      0.99      0.98      6000\n",
            "weighted avg       1.00      1.00      1.00      6000\n",
            "\n"
          ]
        }
      ]
    },
    {
      "cell_type": "markdown",
      "source": [
        "The random forest was already performing so well that there was not much more we could improve."
      ],
      "metadata": {
        "id": "esAvUcSYkIZO"
      }
    },
    {
      "cell_type": "markdown",
      "source": [
        "##ANN"
      ],
      "metadata": {
        "id": "GfxuesAOhylf"
      }
    },
    {
      "cell_type": "code",
      "source": [
        "model = Sequential([\n",
        "    Dense(64, activation='relu', input_shape=(9,)),\n",
        "    Dense(32, activation='relu'),\n",
        "    Dense(1, activation='sigmoid')\n",
        "])\n",
        "model.compile(loss='binary_crossentropy', optimizer='adam', metrics=['accuracy'])\n",
        "model.summary()"
      ],
      "metadata": {
        "colab": {
          "base_uri": "https://localhost:8080/",
          "height": 232
        },
        "id": "-6omBxr9h1fj",
        "outputId": "c5d0ecb6-8172-4eab-b17e-57e9bd095098"
      },
      "execution_count": 64,
      "outputs": [
        {
          "output_type": "display_data",
          "data": {
            "text/plain": [
              "\u001b[1mModel: \"sequential\"\u001b[0m\n"
            ],
            "text/html": [
              "<pre style=\"white-space:pre;overflow-x:auto;line-height:normal;font-family:Menlo,'DejaVu Sans Mono',consolas,'Courier New',monospace\"><span style=\"font-weight: bold\">Model: \"sequential\"</span>\n",
              "</pre>\n"
            ]
          },
          "metadata": {}
        },
        {
          "output_type": "display_data",
          "data": {
            "text/plain": [
              "┏━━━━━━━━━━━━━━━━━━━━━━━━━━━━━━━━━━━━━━┳━━━━━━━━━━━━━━━━━━━━━━━━━━━━━┳━━━━━━━━━━━━━━━━━┓\n",
              "┃\u001b[1m \u001b[0m\u001b[1mLayer (type)                        \u001b[0m\u001b[1m \u001b[0m┃\u001b[1m \u001b[0m\u001b[1mOutput Shape               \u001b[0m\u001b[1m \u001b[0m┃\u001b[1m \u001b[0m\u001b[1m        Param #\u001b[0m\u001b[1m \u001b[0m┃\n",
              "┡━━━━━━━━━━━━━━━━━━━━━━━━━━━━━━━━━━━━━━╇━━━━━━━━━━━━━━━━━━━━━━━━━━━━━╇━━━━━━━━━━━━━━━━━┩\n",
              "│ dense (\u001b[38;5;33mDense\u001b[0m)                        │ (\u001b[38;5;45mNone\u001b[0m, \u001b[38;5;34m64\u001b[0m)                  │             \u001b[38;5;34m640\u001b[0m │\n",
              "├──────────────────────────────────────┼─────────────────────────────┼─────────────────┤\n",
              "│ dense_1 (\u001b[38;5;33mDense\u001b[0m)                      │ (\u001b[38;5;45mNone\u001b[0m, \u001b[38;5;34m32\u001b[0m)                  │           \u001b[38;5;34m2,080\u001b[0m │\n",
              "├──────────────────────────────────────┼─────────────────────────────┼─────────────────┤\n",
              "│ dense_2 (\u001b[38;5;33mDense\u001b[0m)                      │ (\u001b[38;5;45mNone\u001b[0m, \u001b[38;5;34m1\u001b[0m)                   │              \u001b[38;5;34m33\u001b[0m │\n",
              "└──────────────────────────────────────┴─────────────────────────────┴─────────────────┘\n"
            ],
            "text/html": [
              "<pre style=\"white-space:pre;overflow-x:auto;line-height:normal;font-family:Menlo,'DejaVu Sans Mono',consolas,'Courier New',monospace\">┏━━━━━━━━━━━━━━━━━━━━━━━━━━━━━━━━━━━━━━┳━━━━━━━━━━━━━━━━━━━━━━━━━━━━━┳━━━━━━━━━━━━━━━━━┓\n",
              "┃<span style=\"font-weight: bold\"> Layer (type)                         </span>┃<span style=\"font-weight: bold\"> Output Shape                </span>┃<span style=\"font-weight: bold\">         Param # </span>┃\n",
              "┡━━━━━━━━━━━━━━━━━━━━━━━━━━━━━━━━━━━━━━╇━━━━━━━━━━━━━━━━━━━━━━━━━━━━━╇━━━━━━━━━━━━━━━━━┩\n",
              "│ dense (<span style=\"color: #0087ff; text-decoration-color: #0087ff\">Dense</span>)                        │ (<span style=\"color: #00d7ff; text-decoration-color: #00d7ff\">None</span>, <span style=\"color: #00af00; text-decoration-color: #00af00\">64</span>)                  │             <span style=\"color: #00af00; text-decoration-color: #00af00\">640</span> │\n",
              "├──────────────────────────────────────┼─────────────────────────────┼─────────────────┤\n",
              "│ dense_1 (<span style=\"color: #0087ff; text-decoration-color: #0087ff\">Dense</span>)                      │ (<span style=\"color: #00d7ff; text-decoration-color: #00d7ff\">None</span>, <span style=\"color: #00af00; text-decoration-color: #00af00\">32</span>)                  │           <span style=\"color: #00af00; text-decoration-color: #00af00\">2,080</span> │\n",
              "├──────────────────────────────────────┼─────────────────────────────┼─────────────────┤\n",
              "│ dense_2 (<span style=\"color: #0087ff; text-decoration-color: #0087ff\">Dense</span>)                      │ (<span style=\"color: #00d7ff; text-decoration-color: #00d7ff\">None</span>, <span style=\"color: #00af00; text-decoration-color: #00af00\">1</span>)                   │              <span style=\"color: #00af00; text-decoration-color: #00af00\">33</span> │\n",
              "└──────────────────────────────────────┴─────────────────────────────┴─────────────────┘\n",
              "</pre>\n"
            ]
          },
          "metadata": {}
        },
        {
          "output_type": "display_data",
          "data": {
            "text/plain": [
              "\u001b[1m Total params: \u001b[0m\u001b[38;5;34m2,753\u001b[0m (10.75 KB)\n"
            ],
            "text/html": [
              "<pre style=\"white-space:pre;overflow-x:auto;line-height:normal;font-family:Menlo,'DejaVu Sans Mono',consolas,'Courier New',monospace\"><span style=\"font-weight: bold\"> Total params: </span><span style=\"color: #00af00; text-decoration-color: #00af00\">2,753</span> (10.75 KB)\n",
              "</pre>\n"
            ]
          },
          "metadata": {}
        },
        {
          "output_type": "display_data",
          "data": {
            "text/plain": [
              "\u001b[1m Trainable params: \u001b[0m\u001b[38;5;34m2,753\u001b[0m (10.75 KB)\n"
            ],
            "text/html": [
              "<pre style=\"white-space:pre;overflow-x:auto;line-height:normal;font-family:Menlo,'DejaVu Sans Mono',consolas,'Courier New',monospace\"><span style=\"font-weight: bold\"> Trainable params: </span><span style=\"color: #00af00; text-decoration-color: #00af00\">2,753</span> (10.75 KB)\n",
              "</pre>\n"
            ]
          },
          "metadata": {}
        },
        {
          "output_type": "display_data",
          "data": {
            "text/plain": [
              "\u001b[1m Non-trainable params: \u001b[0m\u001b[38;5;34m0\u001b[0m (0.00 B)\n"
            ],
            "text/html": [
              "<pre style=\"white-space:pre;overflow-x:auto;line-height:normal;font-family:Menlo,'DejaVu Sans Mono',consolas,'Courier New',monospace\"><span style=\"font-weight: bold\"> Non-trainable params: </span><span style=\"color: #00af00; text-decoration-color: #00af00\">0</span> (0.00 B)\n",
              "</pre>\n"
            ]
          },
          "metadata": {}
        }
      ]
    },
    {
      "cell_type": "code",
      "source": [
        "Maintenance = model.fit(X_train_scaled, y_train, epochs=45, verbose=True, validation_split=0.3, batch_size=50)"
      ],
      "metadata": {
        "colab": {
          "base_uri": "https://localhost:8080/"
        },
        "id": "NNJIfBjkikZl",
        "outputId": "f7767e56-7c10-4ee8-e9cb-39fb1c4bd03b"
      },
      "execution_count": 65,
      "outputs": [
        {
          "output_type": "stream",
          "name": "stdout",
          "text": [
            "Epoch 1/45\n",
            "\u001b[1m373/373\u001b[0m \u001b[32m━━━━━━━━━━━━━━━━━━━━\u001b[0m\u001b[37m\u001b[0m \u001b[1m2s\u001b[0m 3ms/step - accuracy: 0.7496 - loss: 0.5076 - val_accuracy: 0.6595 - val_loss: 0.6516\n",
            "Epoch 2/45\n",
            "\u001b[1m373/373\u001b[0m \u001b[32m━━━━━━━━━━━━━━━━━━━━\u001b[0m\u001b[37m\u001b[0m \u001b[1m1s\u001b[0m 2ms/step - accuracy: 0.9049 - loss: 0.2420 - val_accuracy: 0.9479 - val_loss: 0.3204\n",
            "Epoch 3/45\n",
            "\u001b[1m373/373\u001b[0m \u001b[32m━━━━━━━━━━━━━━━━━━━━\u001b[0m\u001b[37m\u001b[0m \u001b[1m1s\u001b[0m 3ms/step - accuracy: 0.9395 - loss: 0.1764 - val_accuracy: 0.8009 - val_loss: 0.3679\n",
            "Epoch 4/45\n",
            "\u001b[1m373/373\u001b[0m \u001b[32m━━━━━━━━━━━━━━━━━━━━\u001b[0m\u001b[37m\u001b[0m \u001b[1m1s\u001b[0m 3ms/step - accuracy: 0.9416 - loss: 0.1555 - val_accuracy: 0.9174 - val_loss: 0.2674\n",
            "Epoch 5/45\n",
            "\u001b[1m373/373\u001b[0m \u001b[32m━━━━━━━━━━━━━━━━━━━━\u001b[0m\u001b[37m\u001b[0m \u001b[1m3s\u001b[0m 4ms/step - accuracy: 0.9417 - loss: 0.1439 - val_accuracy: 0.9648 - val_loss: 0.1359\n",
            "Epoch 6/45\n",
            "\u001b[1m373/373\u001b[0m \u001b[32m━━━━━━━━━━━━━━━━━━━━\u001b[0m\u001b[37m\u001b[0m \u001b[1m2s\u001b[0m 2ms/step - accuracy: 0.9472 - loss: 0.1380 - val_accuracy: 0.9374 - val_loss: 0.2466\n",
            "Epoch 7/45\n",
            "\u001b[1m373/373\u001b[0m \u001b[32m━━━━━━━━━━━━━━━━━━━━\u001b[0m\u001b[37m\u001b[0m \u001b[1m1s\u001b[0m 3ms/step - accuracy: 0.9497 - loss: 0.1303 - val_accuracy: 0.9703 - val_loss: 0.1171\n",
            "Epoch 8/45\n",
            "\u001b[1m373/373\u001b[0m \u001b[32m━━━━━━━━━━━━━━━━━━━━\u001b[0m\u001b[37m\u001b[0m \u001b[1m1s\u001b[0m 2ms/step - accuracy: 0.9544 - loss: 0.1197 - val_accuracy: 0.9703 - val_loss: 0.1392\n",
            "Epoch 9/45\n",
            "\u001b[1m373/373\u001b[0m \u001b[32m━━━━━━━━━━━━━━━━━━━━\u001b[0m\u001b[37m\u001b[0m \u001b[1m1s\u001b[0m 3ms/step - accuracy: 0.9545 - loss: 0.1226 - val_accuracy: 0.9688 - val_loss: 0.1866\n",
            "Epoch 10/45\n",
            "\u001b[1m373/373\u001b[0m \u001b[32m━━━━━━━━━━━━━━━━━━━━\u001b[0m\u001b[37m\u001b[0m \u001b[1m1s\u001b[0m 2ms/step - accuracy: 0.9586 - loss: 0.1139 - val_accuracy: 0.9531 - val_loss: 0.2317\n",
            "Epoch 11/45\n",
            "\u001b[1m373/373\u001b[0m \u001b[32m━━━━━━━━━━━━━━━━━━━━\u001b[0m\u001b[37m\u001b[0m \u001b[1m1s\u001b[0m 3ms/step - accuracy: 0.9622 - loss: 0.1104 - val_accuracy: 0.9469 - val_loss: 0.2423\n",
            "Epoch 12/45\n",
            "\u001b[1m373/373\u001b[0m \u001b[32m━━━━━━━━━━━━━━━━━━━━\u001b[0m\u001b[37m\u001b[0m \u001b[1m2s\u001b[0m 4ms/step - accuracy: 0.9629 - loss: 0.1067 - val_accuracy: 0.9844 - val_loss: 0.1162\n",
            "Epoch 13/45\n",
            "\u001b[1m373/373\u001b[0m \u001b[32m━━━━━━━━━━━━━━━━━━━━\u001b[0m\u001b[37m\u001b[0m \u001b[1m1s\u001b[0m 4ms/step - accuracy: 0.9624 - loss: 0.1061 - val_accuracy: 0.9670 - val_loss: 0.2160\n",
            "Epoch 14/45\n",
            "\u001b[1m373/373\u001b[0m \u001b[32m━━━━━━━━━━━━━━━━━━━━\u001b[0m\u001b[37m\u001b[0m \u001b[1m2s\u001b[0m 3ms/step - accuracy: 0.9684 - loss: 0.1009 - val_accuracy: 0.9661 - val_loss: 0.1612\n",
            "Epoch 15/45\n",
            "\u001b[1m373/373\u001b[0m \u001b[32m━━━━━━━━━━━━━━━━━━━━\u001b[0m\u001b[37m\u001b[0m \u001b[1m1s\u001b[0m 2ms/step - accuracy: 0.9635 - loss: 0.1084 - val_accuracy: 0.9825 - val_loss: 0.1124\n",
            "Epoch 16/45\n",
            "\u001b[1m373/373\u001b[0m \u001b[32m━━━━━━━━━━━━━━━━━━━━\u001b[0m\u001b[37m\u001b[0m \u001b[1m1s\u001b[0m 3ms/step - accuracy: 0.9686 - loss: 0.0995 - val_accuracy: 0.9733 - val_loss: 0.1755\n",
            "Epoch 17/45\n",
            "\u001b[1m373/373\u001b[0m \u001b[32m━━━━━━━━━━━━━━━━━━━━\u001b[0m\u001b[37m\u001b[0m \u001b[1m2s\u001b[0m 6ms/step - accuracy: 0.9686 - loss: 0.0977 - val_accuracy: 0.9628 - val_loss: 0.1725\n",
            "Epoch 18/45\n",
            "\u001b[1m373/373\u001b[0m \u001b[32m━━━━━━━━━━━━━━━━━━━━\u001b[0m\u001b[37m\u001b[0m \u001b[1m1s\u001b[0m 2ms/step - accuracy: 0.9731 - loss: 0.0892 - val_accuracy: 0.9901 - val_loss: 0.0672\n",
            "Epoch 19/45\n",
            "\u001b[1m373/373\u001b[0m \u001b[32m━━━━━━━━━━━━━━━━━━━━\u001b[0m\u001b[37m\u001b[0m \u001b[1m1s\u001b[0m 2ms/step - accuracy: 0.9747 - loss: 0.0895 - val_accuracy: 0.9901 - val_loss: 0.0616\n",
            "Epoch 20/45\n",
            "\u001b[1m373/373\u001b[0m \u001b[32m━━━━━━━━━━━━━━━━━━━━\u001b[0m\u001b[37m\u001b[0m \u001b[1m1s\u001b[0m 3ms/step - accuracy: 0.9751 - loss: 0.0861 - val_accuracy: 0.9906 - val_loss: 0.0766\n",
            "Epoch 21/45\n",
            "\u001b[1m373/373\u001b[0m \u001b[32m━━━━━━━━━━━━━━━━━━━━\u001b[0m\u001b[37m\u001b[0m \u001b[1m2s\u001b[0m 4ms/step - accuracy: 0.9748 - loss: 0.0847 - val_accuracy: 0.9907 - val_loss: 0.0710\n",
            "Epoch 22/45\n",
            "\u001b[1m373/373\u001b[0m \u001b[32m━━━━━━━━━━━━━━━━━━━━\u001b[0m\u001b[37m\u001b[0m \u001b[1m2s\u001b[0m 3ms/step - accuracy: 0.9761 - loss: 0.0811 - val_accuracy: 0.9130 - val_loss: 0.2521\n",
            "Epoch 23/45\n",
            "\u001b[1m373/373\u001b[0m \u001b[32m━━━━━━━━━━━━━━━━━━━━\u001b[0m\u001b[37m\u001b[0m \u001b[1m1s\u001b[0m 2ms/step - accuracy: 0.9777 - loss: 0.0789 - val_accuracy: 0.9896 - val_loss: 0.0951\n",
            "Epoch 24/45\n",
            "\u001b[1m373/373\u001b[0m \u001b[32m━━━━━━━━━━━━━━━━━━━━\u001b[0m\u001b[37m\u001b[0m \u001b[1m1s\u001b[0m 3ms/step - accuracy: 0.9741 - loss: 0.0857 - val_accuracy: 0.9682 - val_loss: 0.1240\n",
            "Epoch 25/45\n",
            "\u001b[1m373/373\u001b[0m \u001b[32m━━━━━━━━━━━━━━━━━━━━\u001b[0m\u001b[37m\u001b[0m \u001b[1m1s\u001b[0m 2ms/step - accuracy: 0.9774 - loss: 0.0795 - val_accuracy: 0.9900 - val_loss: 0.0767\n",
            "Epoch 26/45\n",
            "\u001b[1m373/373\u001b[0m \u001b[32m━━━━━━━━━━━━━━━━━━━━\u001b[0m\u001b[37m\u001b[0m \u001b[1m1s\u001b[0m 2ms/step - accuracy: 0.9784 - loss: 0.0752 - val_accuracy: 0.9879 - val_loss: 0.0967\n",
            "Epoch 27/45\n",
            "\u001b[1m373/373\u001b[0m \u001b[32m━━━━━━━━━━━━━━━━━━━━\u001b[0m\u001b[37m\u001b[0m \u001b[1m1s\u001b[0m 3ms/step - accuracy: 0.9789 - loss: 0.0778 - val_accuracy: 0.9892 - val_loss: 0.0717\n",
            "Epoch 28/45\n",
            "\u001b[1m373/373\u001b[0m \u001b[32m━━━━━━━━━━━━━━━━━━━━\u001b[0m\u001b[37m\u001b[0m \u001b[1m1s\u001b[0m 3ms/step - accuracy: 0.9803 - loss: 0.0707 - val_accuracy: 0.9890 - val_loss: 0.0735\n",
            "Epoch 29/45\n",
            "\u001b[1m373/373\u001b[0m \u001b[32m━━━━━━━━━━━━━━━━━━━━\u001b[0m\u001b[37m\u001b[0m \u001b[1m1s\u001b[0m 3ms/step - accuracy: 0.9773 - loss: 0.0796 - val_accuracy: 0.9690 - val_loss: 0.0922\n",
            "Epoch 30/45\n",
            "\u001b[1m373/373\u001b[0m \u001b[32m━━━━━━━━━━━━━━━━━━━━\u001b[0m\u001b[37m\u001b[0m \u001b[1m2s\u001b[0m 5ms/step - accuracy: 0.9793 - loss: 0.0727 - val_accuracy: 0.9775 - val_loss: 0.1035\n",
            "Epoch 31/45\n",
            "\u001b[1m373/373\u001b[0m \u001b[32m━━━━━━━━━━━━━━━━━━━━\u001b[0m\u001b[37m\u001b[0m \u001b[1m2s\u001b[0m 3ms/step - accuracy: 0.9795 - loss: 0.0743 - val_accuracy: 0.9874 - val_loss: 0.0680\n",
            "Epoch 32/45\n",
            "\u001b[1m373/373\u001b[0m \u001b[32m━━━━━━━━━━━━━━━━━━━━\u001b[0m\u001b[37m\u001b[0m \u001b[1m1s\u001b[0m 3ms/step - accuracy: 0.9777 - loss: 0.0745 - val_accuracy: 0.9872 - val_loss: 0.0874\n",
            "Epoch 33/45\n",
            "\u001b[1m373/373\u001b[0m \u001b[32m━━━━━━━━━━━━━━━━━━━━\u001b[0m\u001b[37m\u001b[0m \u001b[1m1s\u001b[0m 2ms/step - accuracy: 0.9807 - loss: 0.0718 - val_accuracy: 0.9857 - val_loss: 0.0867\n",
            "Epoch 34/45\n",
            "\u001b[1m373/373\u001b[0m \u001b[32m━━━━━━━━━━━━━━━━━━━━\u001b[0m\u001b[37m\u001b[0m \u001b[1m1s\u001b[0m 2ms/step - accuracy: 0.9797 - loss: 0.0703 - val_accuracy: 0.9814 - val_loss: 0.0980\n",
            "Epoch 35/45\n",
            "\u001b[1m373/373\u001b[0m \u001b[32m━━━━━━━━━━━━━━━━━━━━\u001b[0m\u001b[37m\u001b[0m \u001b[1m1s\u001b[0m 2ms/step - accuracy: 0.9834 - loss: 0.0616 - val_accuracy: 0.9826 - val_loss: 0.0820\n",
            "Epoch 36/45\n",
            "\u001b[1m373/373\u001b[0m \u001b[32m━━━━━━━━━━━━━━━━━━━━\u001b[0m\u001b[37m\u001b[0m \u001b[1m1s\u001b[0m 3ms/step - accuracy: 0.9815 - loss: 0.0659 - val_accuracy: 0.9844 - val_loss: 0.0701\n",
            "Epoch 37/45\n",
            "\u001b[1m373/373\u001b[0m \u001b[32m━━━━━━━━━━━━━━━━━━━━\u001b[0m\u001b[37m\u001b[0m \u001b[1m1s\u001b[0m 3ms/step - accuracy: 0.9825 - loss: 0.0642 - val_accuracy: 0.9886 - val_loss: 0.0629\n",
            "Epoch 38/45\n",
            "\u001b[1m373/373\u001b[0m \u001b[32m━━━━━━━━━━━━━━━━━━━━\u001b[0m\u001b[37m\u001b[0m \u001b[1m1s\u001b[0m 2ms/step - accuracy: 0.9811 - loss: 0.0654 - val_accuracy: 0.9849 - val_loss: 0.0798\n",
            "Epoch 39/45\n",
            "\u001b[1m373/373\u001b[0m \u001b[32m━━━━━━━━━━━━━━━━━━━━\u001b[0m\u001b[37m\u001b[0m \u001b[1m1s\u001b[0m 3ms/step - accuracy: 0.9811 - loss: 0.0682 - val_accuracy: 0.9187 - val_loss: 0.2149\n",
            "Epoch 40/45\n",
            "\u001b[1m373/373\u001b[0m \u001b[32m━━━━━━━━━━━━━━━━━━━━\u001b[0m\u001b[37m\u001b[0m \u001b[1m2s\u001b[0m 4ms/step - accuracy: 0.9826 - loss: 0.0618 - val_accuracy: 0.9892 - val_loss: 0.0561\n",
            "Epoch 41/45\n",
            "\u001b[1m373/373\u001b[0m \u001b[32m━━━━━━━━━━━━━━━━━━━━\u001b[0m\u001b[37m\u001b[0m \u001b[1m2s\u001b[0m 5ms/step - accuracy: 0.9809 - loss: 0.0646 - val_accuracy: 0.9660 - val_loss: 0.1367\n",
            "Epoch 42/45\n",
            "\u001b[1m373/373\u001b[0m \u001b[32m━━━━━━━━━━━━━━━━━━━━\u001b[0m\u001b[37m\u001b[0m \u001b[1m2s\u001b[0m 3ms/step - accuracy: 0.9823 - loss: 0.0631 - val_accuracy: 0.9738 - val_loss: 0.1161\n",
            "Epoch 43/45\n",
            "\u001b[1m373/373\u001b[0m \u001b[32m━━━━━━━━━━━━━━━━━━━━\u001b[0m\u001b[37m\u001b[0m \u001b[1m1s\u001b[0m 3ms/step - accuracy: 0.9841 - loss: 0.0616 - val_accuracy: 0.9892 - val_loss: 0.0604\n",
            "Epoch 44/45\n",
            "\u001b[1m373/373\u001b[0m \u001b[32m━━━━━━━━━━━━━━━━━━━━\u001b[0m\u001b[37m\u001b[0m \u001b[1m1s\u001b[0m 2ms/step - accuracy: 0.9838 - loss: 0.0588 - val_accuracy: 0.9902 - val_loss: 0.0564\n",
            "Epoch 45/45\n",
            "\u001b[1m373/373\u001b[0m \u001b[32m━━━━━━━━━━━━━━━━━━━━\u001b[0m\u001b[37m\u001b[0m \u001b[1m1s\u001b[0m 2ms/step - accuracy: 0.9841 - loss: 0.0620 - val_accuracy: 0.9759 - val_loss: 0.1188\n"
          ]
        }
      ]
    },
    {
      "cell_type": "code",
      "source": [
        "#plot for training and validation accuracy/loss\n",
        "def plot_history(Maintenance):\n",
        "    acc = Maintenance.history['accuracy']\n",
        "    val_acc = Maintenance.history['val_accuracy']\n",
        "    loss = Maintenance.history['loss']\n",
        "    val_loss = Maintenance.history['val_loss']\n",
        "    x = range(1, len(acc) + 1)\n",
        "\n",
        "    plt.figure(figsize=(12, 5))\n",
        "    plt.subplot(1, 2, 1)\n",
        "    plt.plot(x, acc, label='Training acc')\n",
        "    plt.plot(x, val_acc, label='Validation acc')\n",
        "    plt.title('Training and validation accuracy')\n",
        "    plt.legend()\n",
        "    plt.subplot(1, 2, 2)\n",
        "    plt.plot(x, loss, label='Training loss')\n",
        "    plt.plot(x, val_loss, label='Validation loss')\n",
        "    plt.title('Training and validation loss')\n",
        "    plt.legend()\n"
      ],
      "metadata": {
        "id": "y06rj1_JK6kf"
      },
      "execution_count": 66,
      "outputs": []
    },
    {
      "cell_type": "code",
      "source": [
        "loss, accuracy = model.evaluate(X_train_scaled, y_train, verbose=False)\n",
        "print(\"Training Accuracy: {:.4f}\".format(accuracy))\n",
        "loss, accuracy = model.evaluate(X_test_scaled, y_test, verbose=False)\n",
        "print(\"Testing Accuracy:  {:.4f}\".format(accuracy))\n",
        "\n",
        "plot_history(Maintenance)"
      ],
      "metadata": {
        "colab": {
          "base_uri": "https://localhost:8080/",
          "height": 504
        },
        "id": "k4CTa7fYNQ2Q",
        "outputId": "18c041fd-d2f3-48b2-ca5e-b7bf2aff83aa"
      },
      "execution_count": 67,
      "outputs": [
        {
          "output_type": "stream",
          "name": "stdout",
          "text": [
            "Training Accuracy: 0.9842\n",
            "Testing Accuracy:  0.9935\n"
          ]
        },
        {
          "output_type": "display_data",
          "data": {
            "text/plain": [
              "<Figure size 1200x500 with 2 Axes>"
            ],
            "image/png": "[encoded data removed]"
          },
          "metadata": {}
        }
      ]
    },
    {
      "cell_type": "markdown",
      "source": [
        "Lets try a few different things to see if we can improve the performance just a little more."
      ],
      "metadata": {
        "id": "iOIUFTFjoIAg"
      }
    },
    {
      "cell_type": "code",
      "source": [
        "clear_session()"
      ],
      "metadata": {
        "id": "cQcFzmPapmu7"
      },
      "execution_count": 68,
      "outputs": []
    },
    {
      "cell_type": "code",
      "source": [
        "#fewer neurons, fewer layers, and different activation function\n",
        "model_2 = Sequential([\n",
        "    Dense(32, activation='tanh', input_shape=(9,)),\n",
        "    Dense(1, activation='sigmoid')\n",
        "])\n",
        "model_2.compile(loss='binary_crossentropy', optimizer='adam', metrics=['accuracy'])\n",
        "model_2.summary()"
      ],
      "metadata": {
        "colab": {
          "base_uri": "https://localhost:8080/",
          "height": 199
        },
        "id": "hndcY36UoFCC",
        "outputId": "c12c76cf-2019-474a-b581-e97f0f8bb2b0"
      },
      "execution_count": 69,
      "outputs": [
        {
          "output_type": "display_data",
          "data": {
            "text/plain": [
              "\u001b[1mModel: \"sequential\"\u001b[0m\n"
            ],
            "text/html": [
              "<pre style=\"white-space:pre;overflow-x:auto;line-height:normal;font-family:Menlo,'DejaVu Sans Mono',consolas,'Courier New',monospace\"><span style=\"font-weight: bold\">Model: \"sequential\"</span>\n",
              "</pre>\n"
            ]
          },
          "metadata": {}
        },
        {
          "output_type": "display_data",
          "data": {
            "text/plain": [
              "┏━━━━━━━━━━━━━━━━━━━━━━━━━━━━━━━━━━━━━━┳━━━━━━━━━━━━━━━━━━━━━━━━━━━━━┳━━━━━━━━━━━━━━━━━┓\n",
              "┃\u001b[1m \u001b[0m\u001b[1mLayer (type)                        \u001b[0m\u001b[1m \u001b[0m┃\u001b[1m \u001b[0m\u001b[1mOutput Shape               \u001b[0m\u001b[1m \u001b[0m┃\u001b[1m \u001b[0m\u001b[1m        Param #\u001b[0m\u001b[1m \u001b[0m┃\n",
              "┡━━━━━━━━━━━━━━━━━━━━━━━━━━━━━━━━━━━━━━╇━━━━━━━━━━━━━━━━━━━━━━━━━━━━━╇━━━━━━━━━━━━━━━━━┩\n",
              "│ dense (\u001b[38;5;33mDense\u001b[0m)                        │ (\u001b[38;5;45mNone\u001b[0m, \u001b[38;5;34m32\u001b[0m)                  │             \u001b[38;5;34m320\u001b[0m │\n",
              "├──────────────────────────────────────┼─────────────────────────────┼─────────────────┤\n",
              "│ dense_1 (\u001b[38;5;33mDense\u001b[0m)                      │ (\u001b[38;5;45mNone\u001b[0m, \u001b[38;5;34m1\u001b[0m)                   │              \u001b[38;5;34m33\u001b[0m │\n",
              "└──────────────────────────────────────┴─────────────────────────────┴─────────────────┘\n"
            ],
            "text/html": [
              "<pre style=\"white-space:pre;overflow-x:auto;line-height:normal;font-family:Menlo,'DejaVu Sans Mono',consolas,'Courier New',monospace\">┏━━━━━━━━━━━━━━━━━━━━━━━━━━━━━━━━━━━━━━┳━━━━━━━━━━━━━━━━━━━━━━━━━━━━━┳━━━━━━━━━━━━━━━━━┓\n",
              "┃<span style=\"font-weight: bold\"> Layer (type)                         </span>┃<span style=\"font-weight: bold\"> Output Shape                </span>┃<span style=\"font-weight: bold\">         Param # </span>┃\n",
              "┡━━━━━━━━━━━━━━━━━━━━━━━━━━━━━━━━━━━━━━╇━━━━━━━━━━━━━━━━━━━━━━━━━━━━━╇━━━━━━━━━━━━━━━━━┩\n",
              "│ dense (<span style=\"color: #0087ff; text-decoration-color: #0087ff\">Dense</span>)                        │ (<span style=\"color: #00d7ff; text-decoration-color: #00d7ff\">None</span>, <span style=\"color: #00af00; text-decoration-color: #00af00\">32</span>)                  │             <span style=\"color: #00af00; text-decoration-color: #00af00\">320</span> │\n",
              "├──────────────────────────────────────┼─────────────────────────────┼─────────────────┤\n",
              "│ dense_1 (<span style=\"color: #0087ff; text-decoration-color: #0087ff\">Dense</span>)                      │ (<span style=\"color: #00d7ff; text-decoration-color: #00d7ff\">None</span>, <span style=\"color: #00af00; text-decoration-color: #00af00\">1</span>)                   │              <span style=\"color: #00af00; text-decoration-color: #00af00\">33</span> │\n",
              "└──────────────────────────────────────┴─────────────────────────────┴─────────────────┘\n",
              "</pre>\n"
            ]
          },
          "metadata": {}
        },
        {
          "output_type": "display_data",
          "data": {
            "text/plain": [
              "\u001b[1m Total params: \u001b[0m\u001b[38;5;34m353\u001b[0m (1.38 KB)\n"
            ],
            "text/html": [
              "<pre style=\"white-space:pre;overflow-x:auto;line-height:normal;font-family:Menlo,'DejaVu Sans Mono',consolas,'Courier New',monospace\"><span style=\"font-weight: bold\"> Total params: </span><span style=\"color: #00af00; text-decoration-color: #00af00\">353</span> (1.38 KB)\n",
              "</pre>\n"
            ]
          },
          "metadata": {}
        },
        {
          "output_type": "display_data",
          "data": {
            "text/plain": [
              "\u001b[1m Trainable params: \u001b[0m\u001b[38;5;34m353\u001b[0m (1.38 KB)\n"
            ],
            "text/html": [
              "<pre style=\"white-space:pre;overflow-x:auto;line-height:normal;font-family:Menlo,'DejaVu Sans Mono',consolas,'Courier New',monospace\"><span style=\"font-weight: bold\"> Trainable params: </span><span style=\"color: #00af00; text-decoration-color: #00af00\">353</span> (1.38 KB)\n",
              "</pre>\n"
            ]
          },
          "metadata": {}
        },
        {
          "output_type": "display_data",
          "data": {
            "text/plain": [
              "\u001b[1m Non-trainable params: \u001b[0m\u001b[38;5;34m0\u001b[0m (0.00 B)\n"
            ],
            "text/html": [
              "<pre style=\"white-space:pre;overflow-x:auto;line-height:normal;font-family:Menlo,'DejaVu Sans Mono',consolas,'Courier New',monospace\"><span style=\"font-weight: bold\"> Non-trainable params: </span><span style=\"color: #00af00; text-decoration-color: #00af00\">0</span> (0.00 B)\n",
              "</pre>\n"
            ]
          },
          "metadata": {}
        }
      ]
    },
    {
      "cell_type": "code",
      "source": [
        "Maintenance = model_2.fit(X_train_scaled, y_train, epochs=45, verbose=True, validation_split=0.3, batch_size=50)"
      ],
      "metadata": {
        "colab": {
          "base_uri": "https://localhost:8080/"
        },
        "id": "M0iu6TqFqANS",
        "outputId": "1517ae95-53b2-4817-dbc7-965d92052b41"
      },
      "execution_count": 70,
      "outputs": [
        {
          "output_type": "stream",
          "name": "stdout",
          "text": [
            "Epoch 1/45\n",
            "\u001b[1m373/373\u001b[0m \u001b[32m━━━━━━━━━━━━━━━━━━━━\u001b[0m\u001b[37m\u001b[0m \u001b[1m2s\u001b[0m 3ms/step - accuracy: 0.6475 - loss: 0.6363 - val_accuracy: 0.0000e+00 - val_loss: 1.1926\n",
            "Epoch 2/45\n",
            "\u001b[1m373/373\u001b[0m \u001b[32m━━━━━━━━━━━━━━━━━━━━\u001b[0m\u001b[37m\u001b[0m \u001b[1m1s\u001b[0m 3ms/step - accuracy: 0.7168 - loss: 0.5567 - val_accuracy: 0.1753 - val_loss: 1.0906\n",
            "Epoch 3/45\n",
            "\u001b[1m373/373\u001b[0m \u001b[32m━━━━━━━━━━━━━━━━━━━━\u001b[0m\u001b[37m\u001b[0m \u001b[1m2s\u001b[0m 2ms/step - accuracy: 0.7460 - loss: 0.5286 - val_accuracy: 0.2370 - val_loss: 1.0042\n",
            "Epoch 4/45\n",
            "\u001b[1m373/373\u001b[0m \u001b[32m━━━━━━━━━━━━━━━━━━━━\u001b[0m\u001b[37m\u001b[0m \u001b[1m1s\u001b[0m 2ms/step - accuracy: 0.7678 - loss: 0.4922 - val_accuracy: 0.2869 - val_loss: 0.8295\n",
            "Epoch 5/45\n",
            "\u001b[1m373/373\u001b[0m \u001b[32m━━━━━━━━━━━━━━━━━━━━\u001b[0m\u001b[37m\u001b[0m \u001b[1m1s\u001b[0m 2ms/step - accuracy: 0.7939 - loss: 0.4579 - val_accuracy: 0.3006 - val_loss: 0.9276\n",
            "Epoch 6/45\n",
            "\u001b[1m373/373\u001b[0m \u001b[32m━━━━━━━━━━━━━━━━━━━━\u001b[0m\u001b[37m\u001b[0m \u001b[1m1s\u001b[0m 2ms/step - accuracy: 0.8204 - loss: 0.4132 - val_accuracy: 0.4994 - val_loss: 0.7931\n",
            "Epoch 7/45\n",
            "\u001b[1m373/373\u001b[0m \u001b[32m━━━━━━━━━━━━━━━━━━━━\u001b[0m\u001b[37m\u001b[0m \u001b[1m1s\u001b[0m 2ms/step - accuracy: 0.8436 - loss: 0.3760 - val_accuracy: 0.6221 - val_loss: 0.6382\n",
            "Epoch 8/45\n",
            "\u001b[1m373/373\u001b[0m \u001b[32m━━━━━━━━━━━━━━━━━━━━\u001b[0m\u001b[37m\u001b[0m \u001b[1m1s\u001b[0m 2ms/step - accuracy: 0.8695 - loss: 0.3480 - val_accuracy: 0.6276 - val_loss: 0.6762\n",
            "Epoch 9/45\n",
            "\u001b[1m373/373\u001b[0m \u001b[32m━━━━━━━━━━━━━━━━━━━━\u001b[0m\u001b[37m\u001b[0m \u001b[1m1s\u001b[0m 3ms/step - accuracy: 0.8971 - loss: 0.3144 - val_accuracy: 0.6664 - val_loss: 0.5573\n",
            "Epoch 10/45\n",
            "\u001b[1m373/373\u001b[0m \u001b[32m━━━━━━━━━━━━━━━━━━━━\u001b[0m\u001b[37m\u001b[0m \u001b[1m1s\u001b[0m 2ms/step - accuracy: 0.9077 - loss: 0.2954 - val_accuracy: 0.6664 - val_loss: 0.5446\n",
            "Epoch 11/45\n",
            "\u001b[1m373/373\u001b[0m \u001b[32m━━━━━━━━━━━━━━━━━━━━\u001b[0m\u001b[37m\u001b[0m \u001b[1m1s\u001b[0m 3ms/step - accuracy: 0.9070 - loss: 0.2791 - val_accuracy: 0.6984 - val_loss: 0.4469\n",
            "Epoch 12/45\n",
            "\u001b[1m373/373\u001b[0m \u001b[32m━━━━━━━━━━━━━━━━━━━━\u001b[0m\u001b[37m\u001b[0m \u001b[1m1s\u001b[0m 3ms/step - accuracy: 0.9079 - loss: 0.2607 - val_accuracy: 0.8179 - val_loss: 0.4100\n",
            "Epoch 13/45\n",
            "\u001b[1m373/373\u001b[0m \u001b[32m━━━━━━━━━━━━━━━━━━━━\u001b[0m\u001b[37m\u001b[0m \u001b[1m1s\u001b[0m 4ms/step - accuracy: 0.9122 - loss: 0.2459 - val_accuracy: 0.9396 - val_loss: 0.3616\n",
            "Epoch 14/45\n",
            "\u001b[1m373/373\u001b[0m \u001b[32m━━━━━━━━━━━━━━━━━━━━\u001b[0m\u001b[37m\u001b[0m \u001b[1m2s\u001b[0m 2ms/step - accuracy: 0.9213 - loss: 0.2245 - val_accuracy: 0.9423 - val_loss: 0.3323\n",
            "Epoch 15/45\n",
            "\u001b[1m373/373\u001b[0m \u001b[32m━━━━━━━━━━━━━━━━━━━━\u001b[0m\u001b[37m\u001b[0m \u001b[1m1s\u001b[0m 2ms/step - accuracy: 0.9188 - loss: 0.2235 - val_accuracy: 0.9438 - val_loss: 0.3186\n",
            "Epoch 16/45\n",
            "\u001b[1m373/373\u001b[0m \u001b[32m━━━━━━━━━━━━━━━━━━━━\u001b[0m\u001b[37m\u001b[0m \u001b[1m1s\u001b[0m 2ms/step - accuracy: 0.9245 - loss: 0.2090 - val_accuracy: 0.9412 - val_loss: 0.3578\n",
            "Epoch 17/45\n",
            "\u001b[1m373/373\u001b[0m \u001b[32m━━━━━━━━━━━━━━━━━━━━\u001b[0m\u001b[37m\u001b[0m \u001b[1m1s\u001b[0m 3ms/step - accuracy: 0.9182 - loss: 0.2102 - val_accuracy: 0.9456 - val_loss: 0.2694\n",
            "Epoch 18/45\n",
            "\u001b[1m373/373\u001b[0m \u001b[32m━━━━━━━━━━━━━━━━━━━━\u001b[0m\u001b[37m\u001b[0m \u001b[1m1s\u001b[0m 2ms/step - accuracy: 0.9269 - loss: 0.1968 - val_accuracy: 0.9461 - val_loss: 0.3155\n",
            "Epoch 19/45\n",
            "\u001b[1m373/373\u001b[0m \u001b[32m━━━━━━━━━━━━━━━━━━━━\u001b[0m\u001b[37m\u001b[0m \u001b[1m1s\u001b[0m 2ms/step - accuracy: 0.9319 - loss: 0.1902 - val_accuracy: 0.9526 - val_loss: 0.2670\n",
            "Epoch 20/45\n",
            "\u001b[1m373/373\u001b[0m \u001b[32m━━━━━━━━━━━━━━━━━━━━\u001b[0m\u001b[37m\u001b[0m \u001b[1m1s\u001b[0m 2ms/step - accuracy: 0.9362 - loss: 0.1823 - val_accuracy: 0.9563 - val_loss: 0.2664\n",
            "Epoch 21/45\n",
            "\u001b[1m373/373\u001b[0m \u001b[32m━━━━━━━━━━━━━━━━━━━━\u001b[0m\u001b[37m\u001b[0m \u001b[1m1s\u001b[0m 3ms/step - accuracy: 0.9359 - loss: 0.1834 - val_accuracy: 0.9576 - val_loss: 0.2146\n",
            "Epoch 22/45\n",
            "\u001b[1m373/373\u001b[0m \u001b[32m━━━━━━━━━━━━━━━━━━━━\u001b[0m\u001b[37m\u001b[0m \u001b[1m1s\u001b[0m 4ms/step - accuracy: 0.9325 - loss: 0.1826 - val_accuracy: 0.9580 - val_loss: 0.2297\n",
            "Epoch 23/45\n",
            "\u001b[1m373/373\u001b[0m \u001b[32m━━━━━━━━━━━━━━━━━━━━\u001b[0m\u001b[37m\u001b[0m \u001b[1m1s\u001b[0m 3ms/step - accuracy: 0.9327 - loss: 0.1801 - val_accuracy: 0.9581 - val_loss: 0.1861\n",
            "Epoch 24/45\n",
            "\u001b[1m373/373\u001b[0m \u001b[32m━━━━━━━━━━━━━━━━━━━━\u001b[0m\u001b[37m\u001b[0m \u001b[1m2s\u001b[0m 3ms/step - accuracy: 0.9393 - loss: 0.1704 - val_accuracy: 0.9578 - val_loss: 0.2490\n",
            "Epoch 25/45\n",
            "\u001b[1m373/373\u001b[0m \u001b[32m━━━━━━━━━━━━━━━━━━━━\u001b[0m\u001b[37m\u001b[0m \u001b[1m1s\u001b[0m 2ms/step - accuracy: 0.9370 - loss: 0.1737 - val_accuracy: 0.9581 - val_loss: 0.1659\n",
            "Epoch 26/45\n",
            "\u001b[1m373/373\u001b[0m \u001b[32m━━━━━━━━━━━━━━━━━━━━\u001b[0m\u001b[37m\u001b[0m \u001b[1m1s\u001b[0m 2ms/step - accuracy: 0.9389 - loss: 0.1678 - val_accuracy: 0.9581 - val_loss: 0.2308\n",
            "Epoch 27/45\n",
            "\u001b[1m373/373\u001b[0m \u001b[32m━━━━━━━━━━━━━━━━━━━━\u001b[0m\u001b[37m\u001b[0m \u001b[1m1s\u001b[0m 2ms/step - accuracy: 0.9405 - loss: 0.1622 - val_accuracy: 0.9581 - val_loss: 0.1949\n",
            "Epoch 28/45\n",
            "\u001b[1m373/373\u001b[0m \u001b[32m━━━━━━━━━━━━━━━━━━━━\u001b[0m\u001b[37m\u001b[0m \u001b[1m1s\u001b[0m 2ms/step - accuracy: 0.9392 - loss: 0.1606 - val_accuracy: 0.9581 - val_loss: 0.2456\n",
            "Epoch 29/45\n",
            "\u001b[1m373/373\u001b[0m \u001b[32m━━━━━━━━━━━━━━━━━━━━\u001b[0m\u001b[37m\u001b[0m \u001b[1m1s\u001b[0m 2ms/step - accuracy: 0.9364 - loss: 0.1657 - val_accuracy: 0.9581 - val_loss: 0.1761\n",
            "Epoch 30/45\n",
            "\u001b[1m373/373\u001b[0m \u001b[32m━━━━━━━━━━━━━━━━━━━━\u001b[0m\u001b[37m\u001b[0m \u001b[1m1s\u001b[0m 3ms/step - accuracy: 0.9371 - loss: 0.1638 - val_accuracy: 0.9581 - val_loss: 0.1830\n",
            "Epoch 31/45\n",
            "\u001b[1m373/373\u001b[0m \u001b[32m━━━━━━━━━━━━━━━━━━━━\u001b[0m\u001b[37m\u001b[0m \u001b[1m1s\u001b[0m 3ms/step - accuracy: 0.9407 - loss: 0.1540 - val_accuracy: 0.9581 - val_loss: 0.2112\n",
            "Epoch 32/45\n",
            "\u001b[1m373/373\u001b[0m \u001b[32m━━━━━━━━━━━━━━━━━━━━\u001b[0m\u001b[37m\u001b[0m \u001b[1m1s\u001b[0m 3ms/step - accuracy: 0.9395 - loss: 0.1555 - val_accuracy: 0.9581 - val_loss: 0.1866\n",
            "Epoch 33/45\n",
            "\u001b[1m373/373\u001b[0m \u001b[32m━━━━━━━━━━━━━━━━━━━━\u001b[0m\u001b[37m\u001b[0m \u001b[1m2s\u001b[0m 2ms/step - accuracy: 0.9388 - loss: 0.1568 - val_accuracy: 0.9581 - val_loss: 0.1829\n",
            "Epoch 34/45\n",
            "\u001b[1m373/373\u001b[0m \u001b[32m━━━━━━━━━━━━━━━━━━━━\u001b[0m\u001b[37m\u001b[0m \u001b[1m1s\u001b[0m 2ms/step - accuracy: 0.9368 - loss: 0.1575 - val_accuracy: 0.9581 - val_loss: 0.2069\n",
            "Epoch 35/45\n",
            "\u001b[1m373/373\u001b[0m \u001b[32m━━━━━━━━━━━━━━━━━━━━\u001b[0m\u001b[37m\u001b[0m \u001b[1m1s\u001b[0m 2ms/step - accuracy: 0.9381 - loss: 0.1535 - val_accuracy: 0.9581 - val_loss: 0.1798\n",
            "Epoch 36/45\n",
            "\u001b[1m373/373\u001b[0m \u001b[32m━━━━━━━━━━━━━━━━━━━━\u001b[0m\u001b[37m\u001b[0m \u001b[1m1s\u001b[0m 3ms/step - accuracy: 0.9370 - loss: 0.1549 - val_accuracy: 0.9581 - val_loss: 0.1771\n",
            "Epoch 37/45\n",
            "\u001b[1m373/373\u001b[0m \u001b[32m━━━━━━━━━━━━━━━━━━━━\u001b[0m\u001b[37m\u001b[0m \u001b[1m1s\u001b[0m 2ms/step - accuracy: 0.9361 - loss: 0.1511 - val_accuracy: 0.9583 - val_loss: 0.1468\n",
            "Epoch 38/45\n",
            "\u001b[1m373/373\u001b[0m \u001b[32m━━━━━━━━━━━━━━━━━━━━\u001b[0m\u001b[37m\u001b[0m \u001b[1m1s\u001b[0m 3ms/step - accuracy: 0.9411 - loss: 0.1503 - val_accuracy: 0.9581 - val_loss: 0.2159\n",
            "Epoch 39/45\n",
            "\u001b[1m373/373\u001b[0m \u001b[32m━━━━━━━━━━━━━━━━━━━━\u001b[0m\u001b[37m\u001b[0m \u001b[1m1s\u001b[0m 2ms/step - accuracy: 0.9421 - loss: 0.1479 - val_accuracy: 0.9581 - val_loss: 0.1560\n",
            "Epoch 40/45\n",
            "\u001b[1m373/373\u001b[0m \u001b[32m━━━━━━━━━━━━━━━━━━━━\u001b[0m\u001b[37m\u001b[0m \u001b[1m1s\u001b[0m 3ms/step - accuracy: 0.9369 - loss: 0.1540 - val_accuracy: 0.9581 - val_loss: 0.1877\n",
            "Epoch 41/45\n",
            "\u001b[1m373/373\u001b[0m \u001b[32m━━━━━━━━━━━━━━━━━━━━\u001b[0m\u001b[37m\u001b[0m \u001b[1m1s\u001b[0m 2ms/step - accuracy: 0.9374 - loss: 0.1503 - val_accuracy: 0.9612 - val_loss: 0.1678\n",
            "Epoch 42/45\n",
            "\u001b[1m373/373\u001b[0m \u001b[32m━━━━━━━━━━━━━━━━━━━━\u001b[0m\u001b[37m\u001b[0m \u001b[1m2s\u001b[0m 4ms/step - accuracy: 0.9364 - loss: 0.1485 - val_accuracy: 0.9581 - val_loss: 0.1882\n",
            "Epoch 43/45\n",
            "\u001b[1m373/373\u001b[0m \u001b[32m━━━━━━━━━━━━━━━━━━━━\u001b[0m\u001b[37m\u001b[0m \u001b[1m2s\u001b[0m 3ms/step - accuracy: 0.9403 - loss: 0.1427 - val_accuracy: 0.9533 - val_loss: 0.2559\n",
            "Epoch 44/45\n",
            "\u001b[1m373/373\u001b[0m \u001b[32m━━━━━━━━━━━━━━━━━━━━\u001b[0m\u001b[37m\u001b[0m \u001b[1m1s\u001b[0m 3ms/step - accuracy: 0.9380 - loss: 0.1500 - val_accuracy: 0.9582 - val_loss: 0.1753\n",
            "Epoch 45/45\n",
            "\u001b[1m373/373\u001b[0m \u001b[32m━━━━━━━━━━━━━━━━━━━━\u001b[0m\u001b[37m\u001b[0m \u001b[1m1s\u001b[0m 3ms/step - accuracy: 0.9392 - loss: 0.1493 - val_accuracy: 0.9581 - val_loss: 0.1874\n"
          ]
        }
      ]
    },
    {
      "cell_type": "code",
      "source": [
        "loss, accuracy = model_2.evaluate(X_train_scaled, y_train, verbose=False)\n",
        "print(\"Training Accuracy: {:.4f}\".format(accuracy))\n",
        "loss, accuracy = model_2.evaluate(X_test_scaled, y_test, verbose=False)\n",
        "print(\"Testing Accuracy:  {:.4f}\".format(accuracy))\n",
        "plot_history(Maintenance)"
      ],
      "metadata": {
        "colab": {
          "base_uri": "https://localhost:8080/",
          "height": 504
        },
        "id": "pRg3qvvtqWYf",
        "outputId": "565a10b9-8ce8-45e9-e122-e7ae60782cad"
      },
      "execution_count": 71,
      "outputs": [
        {
          "output_type": "stream",
          "name": "stdout",
          "text": [
            "Training Accuracy: 0.9444\n",
            "Testing Accuracy:  0.9678\n"
          ]
        },
        {
          "output_type": "display_data",
          "data": {
            "text/plain": [
              "<Figure size 1200x500 with 2 Axes>"
            ],
            "image/png": "[encoded data removed]"
          },
          "metadata": {}
        }
      ]
    },
    {
      "cell_type": "markdown",
      "source": [
        "That ANN performed worse. We will stick with the first one."
      ],
      "metadata": {
        "id": "qguRwe1jt5we"
      }
    },
    {
      "cell_type": "markdown",
      "source": [
        "##Summary\n",
        "\n",
        "First we ran decision tree, KNN, and random forest. All performed very well but the random forest was the best by a small margin. We ran a gridsearch to see if we could squeeze any last drops of performance out of the random forest but we were unsuccesful. We then built an ANN and got slighly worse performance than the random forrest. We tried a simpler ANN and got even worse performance. This dataset is synthetic and was able to be fit easily by even simple ML models. Real data could present much more noise and complexity that would be able to better showcase the power of deep learning.\n",
        "\n",
        "In the real world, this model can be used to predict the specific tasks that strain drilling machines, or predict tasks that cause machine failures. This can let technicians know when to take extra measures to prevent machine failures (i.e. lower feed rate, increase cooling)."
      ],
      "metadata": {
        "id": "nHZ3QIzKvUDv"
      }
    }
  ]
}